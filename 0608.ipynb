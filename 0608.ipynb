{
  "nbformat": 4,
  "nbformat_minor": 0,
  "metadata": {
    "colab": {
      "name": "0608.ipynb",
      "provenance": [],
      "authorship_tag": "ABX9TyN3VZXCm3+sxC7W4+qvjcKR",
      "include_colab_link": true
    },
    "kernelspec": {
      "name": "python3",
      "display_name": "Python 3"
    },
    "language_info": {
      "name": "python"
    }
  },
  "cells": [
    {
      "cell_type": "markdown",
      "metadata": {
        "id": "view-in-github",
        "colab_type": "text"
      },
      "source": [
        "<a href=\"https://colab.research.google.com/github/LINBOTI/Introduction-to-Computers/blob/main/0608.ipynb\" target=\"_parent\"><img src=\"https://colab.research.google.com/assets/colab-badge.svg\" alt=\"Open In Colab\"/></a>"
      ]
    },
    {
      "cell_type": "code",
      "execution_count": null,
      "metadata": {
        "id": "RAyPJLFuqaR-"
      },
      "outputs": [],
      "source": [
        "list1=[1,2,3,4]"
      ]
    },
    {
      "cell_type": "code",
      "source": [
        "list1"
      ],
      "metadata": {
        "colab": {
          "base_uri": "https://localhost:8080/"
        },
        "id": "8-X_r4G5sODd",
        "outputId": "f45f26dc-0b65-4494-863a-0347a6d756ae"
      },
      "execution_count": null,
      "outputs": [
        {
          "output_type": "execute_result",
          "data": {
            "text/plain": [
              "[1, 2, 3, 4]"
            ]
          },
          "metadata": {},
          "execution_count": 2
        }
      ]
    },
    {
      "cell_type": "code",
      "source": [
        "list2=['秋刀魚','鯊魚','鮪魚']"
      ],
      "metadata": {
        "id": "xxr3NQUasSkT"
      },
      "execution_count": null,
      "outputs": []
    },
    {
      "cell_type": "code",
      "source": [
        "list2"
      ],
      "metadata": {
        "colab": {
          "base_uri": "https://localhost:8080/"
        },
        "id": "da-AmLqosgeF",
        "outputId": "8f3432e1-309f-4033-8282-72bdc8b66efe"
      },
      "execution_count": null,
      "outputs": [
        {
          "output_type": "execute_result",
          "data": {
            "text/plain": [
              "['秋刀魚', '鯊魚', '鮪魚']"
            ]
          },
          "metadata": {},
          "execution_count": 4
        }
      ]
    },
    {
      "cell_type": "code",
      "source": [
        "list3=['西瓜',66,True]"
      ],
      "metadata": {
        "id": "w8tZc06-sh27"
      },
      "execution_count": null,
      "outputs": []
    },
    {
      "cell_type": "code",
      "source": [
        "list3"
      ],
      "metadata": {
        "colab": {
          "base_uri": "https://localhost:8080/"
        },
        "id": "PhcefULJs2O8",
        "outputId": "4614d32d-0bc9-4b61-9f53-011c0afdd957"
      },
      "execution_count": null,
      "outputs": [
        {
          "output_type": "execute_result",
          "data": {
            "text/plain": [
              "['西瓜', 66, True]"
            ]
          },
          "metadata": {},
          "execution_count": 6
        }
      ]
    },
    {
      "cell_type": "code",
      "source": [
        "list4=[]"
      ],
      "metadata": {
        "id": "6GiqjrLAs6Wk"
      },
      "execution_count": null,
      "outputs": []
    },
    {
      "cell_type": "code",
      "source": [
        "list4"
      ],
      "metadata": {
        "colab": {
          "base_uri": "https://localhost:8080/"
        },
        "id": "twdWDLi1s89M",
        "outputId": "c7cfcb03-1709-40ca-b6ef-6860eb639f28"
      },
      "execution_count": null,
      "outputs": [
        {
          "output_type": "execute_result",
          "data": {
            "text/plain": [
              "[]"
            ]
          },
          "metadata": {},
          "execution_count": 8
        }
      ]
    },
    {
      "cell_type": "code",
      "source": [
        "list1=[1,2,3,4]\n",
        "print(list1)\n",
        "print(list1[0])\n",
        "print(list1[1])\n",
        "print(list1[2])\n",
        "print(list1[3])"
      ],
      "metadata": {
        "colab": {
          "base_uri": "https://localhost:8080/"
        },
        "id": "qUkmKZjrs99-",
        "outputId": "28296080-6662-4889-bdc2-76e7bd580308"
      },
      "execution_count": null,
      "outputs": [
        {
          "output_type": "stream",
          "name": "stdout",
          "text": [
            "[1, 2, 3, 4]\n",
            "1\n",
            "2\n",
            "3\n",
            "4\n"
          ]
        }
      ]
    },
    {
      "cell_type": "code",
      "source": [
        "print(list2[0])"
      ],
      "metadata": {
        "colab": {
          "base_uri": "https://localhost:8080/"
        },
        "id": "xxTZEfADuSrP",
        "outputId": "ffe51bef-2924-48eb-8dcd-0538ebdd7b67"
      },
      "execution_count": null,
      "outputs": [
        {
          "output_type": "stream",
          "name": "stdout",
          "text": [
            "秋刀魚\n"
          ]
        }
      ]
    },
    {
      "cell_type": "code",
      "source": [
        "list5=['鳳梨','西瓜','蓮霧']\n",
        "print(list5[0])\n",
        "print(list5[1])\n",
        "print(list5[2])"
      ],
      "metadata": {
        "colab": {
          "base_uri": "https://localhost:8080/"
        },
        "id": "YKSkz4uIulJM",
        "outputId": "192f9c82-0690-4d22-aadd-8327c63c4a1d"
      },
      "execution_count": null,
      "outputs": [
        {
          "output_type": "stream",
          "name": "stdout",
          "text": [
            "鳳梨\n",
            "西瓜\n",
            "蓮霧\n"
          ]
        }
      ]
    },
    {
      "cell_type": "code",
      "source": [
        "print(list5[-1])\n",
        "print(list5[-2])\n",
        "print(list5[-3])"
      ],
      "metadata": {
        "colab": {
          "base_uri": "https://localhost:8080/"
        },
        "id": "yD3ZODSyvPyt",
        "outputId": "cf955f01-2096-4ffe-f93e-3deb6102ed22"
      },
      "execution_count": null,
      "outputs": [
        {
          "output_type": "stream",
          "name": "stdout",
          "text": [
            "蓮霧\n",
            "西瓜\n",
            "鳳梨\n"
          ]
        }
      ]
    },
    {
      "cell_type": "code",
      "source": [
        "list6=[['tom','1234']],['mary','abcd'],['david','5678']"
      ],
      "metadata": {
        "id": "A2__aMRwvyTz"
      },
      "execution_count": null,
      "outputs": []
    },
    {
      "cell_type": "code",
      "source": [
        "print(list6[1])"
      ],
      "metadata": {
        "colab": {
          "base_uri": "https://localhost:8080/"
        },
        "id": "4SMVzzMaw5Q-",
        "outputId": "f27528b1-c636-4221-fa49-03d0165c25ff"
      },
      "execution_count": null,
      "outputs": [
        {
          "output_type": "stream",
          "name": "stdout",
          "text": [
            "['mary', 'abcd']\n"
          ]
        }
      ]
    },
    {
      "cell_type": "code",
      "source": [
        "print(list6[0])"
      ],
      "metadata": {
        "colab": {
          "base_uri": "https://localhost:8080/"
        },
        "id": "yRKj2qXww9cj",
        "outputId": "1b2d154a-c503-4101-afef-466ce2e57501"
      },
      "execution_count": null,
      "outputs": [
        {
          "output_type": "stream",
          "name": "stdout",
          "text": [
            "[['tom', '1234']]\n"
          ]
        }
      ]
    },
    {
      "cell_type": "code",
      "source": [
        "print(list6[1][1])"
      ],
      "metadata": {
        "colab": {
          "base_uri": "https://localhost:8080/"
        },
        "id": "2fgeeTNFxBt7",
        "outputId": "cec79e77-b145-4c7a-e9ad-17213502bd1f"
      },
      "execution_count": null,
      "outputs": [
        {
          "output_type": "stream",
          "name": "stdout",
          "text": [
            "abcd\n"
          ]
        }
      ]
    },
    {
      "cell_type": "code",
      "source": [
        "print(list6[0])"
      ],
      "metadata": {
        "colab": {
          "base_uri": "https://localhost:8080/"
        },
        "id": "09nc8yzhxIxs",
        "outputId": "99042642-d2b5-4ce7-b609-947040b46f5b"
      },
      "execution_count": null,
      "outputs": [
        {
          "output_type": "stream",
          "name": "stdout",
          "text": [
            "[['tom', '1234']]\n"
          ]
        }
      ]
    },
    {
      "cell_type": "code",
      "source": [
        "print(list6[0][0])"
      ],
      "metadata": {
        "colab": {
          "base_uri": "https://localhost:8080/"
        },
        "id": "sy21vfJexN-L",
        "outputId": "96985a25-899b-4ee9-83df-892d8fecca58"
      },
      "execution_count": null,
      "outputs": [
        {
          "output_type": "stream",
          "name": "stdout",
          "text": [
            "['tom', '1234']\n"
          ]
        }
      ]
    },
    {
      "cell_type": "code",
      "source": [
        "print(list6[1][0])"
      ],
      "metadata": {
        "colab": {
          "base_uri": "https://localhost:8080/"
        },
        "id": "3DPAamoCxQJM",
        "outputId": "7a797f75-a0ad-48a2-9207-a3cf84e6121f"
      },
      "execution_count": null,
      "outputs": [
        {
          "output_type": "stream",
          "name": "stdout",
          "text": [
            "mary\n"
          ]
        }
      ]
    },
    {
      "cell_type": "code",
      "source": [
        "list7=['國文','數學','英文']\n",
        "list8=[85,79,93]\n",
        "print(list7[0],'成績:',list8[0],'分',sep='')\n",
        "print(list7[1],'成績:',list8[1],'分',sep='')\n",
        "print(list7[2],'成績:',list8[2],'分',sep='')"
      ],
      "metadata": {
        "colab": {
          "base_uri": "https://localhost:8080/"
        },
        "id": "SGJmkFJTxccD",
        "outputId": "bcd431cc-fa9a-41e0-8310-fd6b552d9e6f"
      },
      "execution_count": null,
      "outputs": [
        {
          "output_type": "stream",
          "name": "stdout",
          "text": [
            "國文成績:85分\n",
            "數學成績:79分\n",
            "英文成績:93分\n"
          ]
        }
      ]
    },
    {
      "cell_type": "code",
      "source": [
        "scores=[85,79,93]\n",
        "print('國文成績:%d分'%scores[0])\n",
        "print('數學成績:%d分'%scores[1])\n",
        "print('英文成績:%d分'%scores[2])"
      ],
      "metadata": {
        "colab": {
          "base_uri": "https://localhost:8080/"
        },
        "id": "raEv0GWkyt7t",
        "outputId": "b60c5e1e-5461-4a00-d4e0-36eba8b7092b"
      },
      "execution_count": null,
      "outputs": [
        {
          "output_type": "stream",
          "name": "stdout",
          "text": [
            "國文成績:85分\n",
            "數學成績:79分\n",
            "英文成績:93分\n"
          ]
        }
      ]
    },
    {
      "cell_type": "code",
      "source": [
        "list9=[1,2,3,4,5]\n",
        "print(list9[0])"
      ],
      "metadata": {
        "colab": {
          "base_uri": "https://localhost:8080/"
        },
        "id": "f34ONwTWz7eu",
        "outputId": "d1b62b58-e3dd-4f39-bf4e-6ac7a8fa8aec"
      },
      "execution_count": null,
      "outputs": [
        {
          "output_type": "stream",
          "name": "stdout",
          "text": [
            "1\n"
          ]
        }
      ]
    },
    {
      "cell_type": "code",
      "source": [
        "list9[0]=9"
      ],
      "metadata": {
        "id": "yWuvNUKm0rGU"
      },
      "execution_count": null,
      "outputs": []
    },
    {
      "cell_type": "code",
      "source": [
        "print(list9)"
      ],
      "metadata": {
        "colab": {
          "base_uri": "https://localhost:8080/"
        },
        "id": "DnHrgNIG0yfk",
        "outputId": "71165f50-cd1a-4e80-9eef-41ba9d95dda1"
      },
      "execution_count": null,
      "outputs": [
        {
          "output_type": "stream",
          "name": "stdout",
          "text": [
            "[9, 2, 3, 4, 5]\n"
          ]
        }
      ]
    },
    {
      "cell_type": "code",
      "source": [
        "list2=['秋刀魚','鯊魚','鮪魚']\n",
        "print(list2)\n",
        "for s in list2:\n",
        "  print(s,end=',')"
      ],
      "metadata": {
        "colab": {
          "base_uri": "https://localhost:8080/"
        },
        "id": "OpffV0gk0118",
        "outputId": "f289ab30-0dcf-432f-ab07-105a960f2d4c"
      },
      "execution_count": null,
      "outputs": [
        {
          "output_type": "stream",
          "name": "stdout",
          "text": [
            "['秋刀魚', '鯊魚', '鮪魚']\n",
            "秋刀魚,鯊魚,鮪魚,"
          ]
        }
      ]
    },
    {
      "cell_type": "code",
      "source": [
        "list3=['西瓜',66,True]\n",
        "for s in list3:\n",
        "  print(s,sep='\\n')"
      ],
      "metadata": {
        "colab": {
          "base_uri": "https://localhost:8080/"
        },
        "id": "ifZzO69L1mMc",
        "outputId": "caf07d1a-8f46-41d5-9059-a5a0837e4e9e"
      },
      "execution_count": null,
      "outputs": [
        {
          "output_type": "stream",
          "name": "stdout",
          "text": [
            "西瓜\n",
            "66\n",
            "True\n"
          ]
        }
      ]
    },
    {
      "cell_type": "code",
      "source": [
        "a=[11,22,33]\n",
        "print(len(a))"
      ],
      "metadata": {
        "colab": {
          "base_uri": "https://localhost:8080/"
        },
        "id": "tFSHZotR2cRl",
        "outputId": "1a5b3436-200c-469a-9110-9f914a7b0dd0"
      },
      "execution_count": null,
      "outputs": [
        {
          "output_type": "stream",
          "name": "stdout",
          "text": [
            "3\n"
          ]
        }
      ]
    },
    {
      "cell_type": "code",
      "source": [
        "a=[11,22,33,44]\n",
        "print(len(a))"
      ],
      "metadata": {
        "colab": {
          "base_uri": "https://localhost:8080/"
        },
        "id": "LB_HFJFg29Ni",
        "outputId": "a6a6d0cb-4fd8-4098-fc35-33295779c298"
      },
      "execution_count": null,
      "outputs": [
        {
          "output_type": "stream",
          "name": "stdout",
          "text": [
            "4\n"
          ]
        }
      ]
    },
    {
      "cell_type": "code",
      "source": [
        "scores=[85,79,93]\n",
        "for i in range(len(scores)):\n",
        "  print(scores[i])"
      ],
      "metadata": {
        "colab": {
          "base_uri": "https://localhost:8080/"
        },
        "id": "RfPubcBu3BzB",
        "outputId": "3a7aedf6-b32c-4cb8-9640-cb35b4773e1f"
      },
      "execution_count": null,
      "outputs": [
        {
          "output_type": "stream",
          "name": "stdout",
          "text": [
            "85\n",
            "79\n",
            "93\n"
          ]
        }
      ]
    },
    {
      "cell_type": "code",
      "source": [
        "scores=[85,79,93]\n",
        "a=['國文','數學','英文']\n",
        "for i in range(len(scores)):\n",
        "  for i in range(len(a)):\n",
        "    print(a[i],'成績:',scores[i],'分')"
      ],
      "metadata": {
        "colab": {
          "base_uri": "https://localhost:8080/"
        },
        "id": "7DeWLFC-3qK0",
        "outputId": "e4523468-2544-4888-c7c8-95d3b71ab849"
      },
      "execution_count": null,
      "outputs": [
        {
          "output_type": "stream",
          "name": "stdout",
          "text": [
            "國文 成績: 85 分\n",
            "數學 成績: 79 分\n",
            "英文 成績: 93 分\n",
            "國文 成績: 85 分\n",
            "數學 成績: 79 分\n",
            "英文 成績: 93 分\n",
            "國文 成績: 85 分\n",
            "數學 成績: 79 分\n",
            "英文 成績: 93 分\n"
          ]
        }
      ]
    },
    {
      "cell_type": "code",
      "source": [
        "b=['Tom','Mary','Tony']\n",
        "for i in range(len(b)):\n",
        "  print('編號:',i,'姓名:',b[i])"
      ],
      "metadata": {
        "colab": {
          "base_uri": "https://localhost:8080/"
        },
        "id": "0n87joFL5bnd",
        "outputId": "3e2f94ed-d6de-4fe3-ad4a-f671d96b5c74"
      },
      "execution_count": null,
      "outputs": [
        {
          "output_type": "stream",
          "name": "stdout",
          "text": [
            "編號: 0 姓名: Tom\n",
            "編號: 1 姓名: Mary\n",
            "編號: 2 姓名: Tony\n"
          ]
        }
      ]
    },
    {
      "cell_type": "code",
      "source": [
        ""
      ],
      "metadata": {
        "id": "GXEJf3XJ7bp0"
      },
      "execution_count": null,
      "outputs": []
    }
  ]
}