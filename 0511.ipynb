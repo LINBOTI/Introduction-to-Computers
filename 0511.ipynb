{
  "nbformat": 4,
  "nbformat_minor": 0,
  "metadata": {
    "colab": {
      "name": "0511.ipynb",
      "provenance": [],
      "authorship_tag": "ABX9TyMBG+k7X/Suv37NNL9su3sX",
      "include_colab_link": true
    },
    "kernelspec": {
      "name": "python3",
      "display_name": "Python 3"
    },
    "language_info": {
      "name": "python"
    }
  },
  "cells": [
    {
      "cell_type": "markdown",
      "metadata": {
        "id": "view-in-github",
        "colab_type": "text"
      },
      "source": [
        "<a href=\"https://colab.research.google.com/github/LINBOTI/Introduction-to-Computers/blob/main/0511.ipynb\" target=\"_parent\"><img src=\"https://colab.research.google.com/assets/colab-badge.svg\" alt=\"Open In Colab\"/></a>"
      ]
    },
    {
      "cell_type": "code",
      "execution_count": 4,
      "metadata": {
        "colab": {
          "base_uri": "https://localhost:8080/"
        },
        "id": "7pkTet5Jg1nR",
        "outputId": "445ee84e-7559-4a43-ed4e-703e76ebc3c7"
      },
      "outputs": [
        {
          "output_type": "stream",
          "name": "stdout",
          "text": [
            "請輸入體溫37\n",
            "體溫略高!\n"
          ]
        }
      ],
      "source": [
        "temp=float(input('請輸入體溫'))\n",
        "if temp>=37.5:\n",
        "    print('體溫過高!')\n",
        "elif temp>=37 and temp<37.4:\n",
        "    print('體溫略高!')\n",
        "elif temp>=34 and temp<37:\n",
        "    print('體溫正常!')\n",
        "else:\n",
        "    print('體溫異常,請重新量測!')"
      ]
    },
    {
      "cell_type": "code",
      "source": [
        "money=int(input('請輸入金額'))\n",
        "if(money>=10000):\n",
        "    if(money>=100000):\n",
        "      print('打八折',money*0.8,end='元\\n')    \n",
        "    elif(money>=50000 and money<100000):\n",
        "      print('打八五折',money*0.85,end='元\\n') \n",
        "    elif(money>=30000 and money<50000):\n",
        "      print('打九折',money*0.9,end='元\\n')  \n",
        "    else:\n",
        "      print('打九五折',money*0.95,end='元\\n')\n",
        "else:\n",
        "    print('沒有打折',money,end='元\\n')"
      ],
      "metadata": {
        "colab": {
          "base_uri": "https://localhost:8080/"
        },
        "id": "7n2zeQQ8jX2y",
        "outputId": "21e39b82-c041-4bfc-db46-d554cdd227f9"
      },
      "execution_count": 14,
      "outputs": [
        {
          "output_type": "stream",
          "name": "stdout",
          "text": [
            "請輸入金額13500\n",
            "打九五折 12825.0元\n"
          ]
        }
      ]
    },
    {
      "cell_type": "code",
      "source": [
        "score=int(input('請輸入成績'))\n",
        "if score>=0 and score<=100:\n",
        "    if score>=90:\n",
        "      print('A')\n",
        "    elif score>=80 and score<89:\n",
        "      print('B')\n",
        "    elif score>=70 and score<79:\n",
        "      print('C')\n",
        "    elif score>=60 and score<69:\n",
        "      print('D')\n",
        "    else:\n",
        "      print('E')\n",
        "else:\n",
        "  print('你作弊')"
      ],
      "metadata": {
        "colab": {
          "base_uri": "https://localhost:8080/"
        },
        "id": "OYfQA1Gmmi37",
        "outputId": "442f0c17-f0b8-4c7d-f5c3-71005d622fef"
      },
      "execution_count": 19,
      "outputs": [
        {
          "output_type": "stream",
          "name": "stdout",
          "text": [
            "請輸入成績999\n",
            "你作弊\n"
          ]
        }
      ]
    },
    {
      "cell_type": "code",
      "source": [
        "x=int(input('請輸入月份'))\n",
        "if x==3 or x==4 or x==5:\n",
        "  print(x,'月是春天!')\n",
        "elif x==6 or x==7 or x==8:\n",
        "  print(x,'月是夏天!')\n",
        "elif x==9 or x==10 or x==11:\n",
        "  print(x,'月是秋天!')\n",
        "elif x==12 or x==1 or x==2:\n",
        "  print(x,'月是冬天!')\n",
        "else:\n",
        "  print('月份不在範圍內!')"
      ],
      "metadata": {
        "colab": {
          "base_uri": "https://localhost:8080/"
        },
        "id": "fr3iXXZbr_K6",
        "outputId": "0f0bd89c-1013-466b-e176-45e83b7e08e2"
      },
      "execution_count": 23,
      "outputs": [
        {
          "output_type": "stream",
          "name": "stdout",
          "text": [
            "請輸入月份12\n",
            "12 月是冬天!\n"
          ]
        }
      ]
    },
    {
      "cell_type": "code",
      "source": [
        "income=int(input('請輸入今年收入淨額'))\n",
        "if income>=2000000:\n",
        "  print('賦稅金額:',income*0.3,end='元\\n')\n",
        "elif income>=1000000 and income<2000000:\n",
        "  print('賦稅金額:',income*0.21,end='元\\n')\n",
        "elif income>=600000 and income<1000000:\n",
        "  print('賦稅金額:',income*0.13,end='元\\n')\n",
        "elif income>=300000 and income<600000:\n",
        "  print('賦稅金額:',income*0.06,end='元\\n')\n",
        "else:\n",
        "  print('賦稅金額:0元')"
      ],
      "metadata": {
        "colab": {
          "base_uri": "https://localhost:8080/"
        },
        "id": "CRcX-6wrt1Fz",
        "outputId": "98477d2f-12a1-4287-d312-a443e77bc2e2"
      },
      "execution_count": 24,
      "outputs": [
        {
          "output_type": "stream",
          "name": "stdout",
          "text": [
            "請輸入今年收入淨額350000\n",
            "賦稅金額: 21000.0元\n"
          ]
        }
      ]
    },
    {
      "cell_type": "code",
      "source": [
        ""
      ],
      "metadata": {
        "id": "9KkQ4V9wyZoM"
      },
      "execution_count": null,
      "outputs": []
    }
  ]
}